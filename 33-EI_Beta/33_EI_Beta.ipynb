{
  "cells": [
    {
      "cell_type": "markdown",
      "metadata": {},
      "source": [
        "[![Open in Colab](https://colab.research.google.com/assets/colab-badge.svg)](https://colab.research.google.com/github/cyneuro/Borgers-Examples-in-BMTK/blob/main/33-EI_Beta/33_EI_Beta.ipynb)"
      ]
    },
    {
      "cell_type": "markdown",
      "metadata": {
        "id": "i9upJ6qo7bil"
      },
      "source": [
        "# Chapter 33- Beta rhythms from E-I Network\n",
        "#### by Matthew Stroud and Gregory Glickert\n",
        "This notebook is a translation of an example in Christophe Borgers' book, \"An Introduction to Modeling Neuronal Dynamics\"\n",
        "\n",
        "In this tutorial,we display an pyramidal - Interneuronal Network Gamma (PING) network entrain excitatory neurons (E-cells). Beta rhythms are 12-30 Hz, thus the firing of the E-cells must be within this range. We model 200 E-cells with an RTM model and the 50 PING cells with a WB model.\n",
        "\n",
        "requirements:\n",
        "\n",
        " bmtk\n",
        "\n",
        " NEURON 7.4+"
      ]
    },
    {
      "cell_type": "markdown",
      "metadata": {
        "id": "GjHEf9HM7bim"
      },
      "source": [
        "### Create nodes\n",
        "The PING network, E-cells, and external input nodes are defined"
      ]
    },
    {
      "cell_type": "code",
      "execution_count": 1,
      "metadata": {
        "colab": {
          "base_uri": "https://localhost:8080/"
        },
        "id": "YtgmBXRK7dh7",
        "outputId": "3464704e-ff54-473c-988b-9d36dfafd6b8"
      },
      "outputs": [
        {
          "name": "stderr",
          "output_type": "stream",
          "text": [
            "/home/gjgpb9/miniconda3/envs/bmtk/bin/nrnivmodl:10: DeprecationWarning: pkg_resources is deprecated as an API. See https://setuptools.pypa.io/en/latest/pkg_resources.html\n",
            "  from pkg_resources import working_set\n",
            "Translating gap.mod into /home/gjgpb9/Borgers-Examples-in-BMTK/33-EI_Beta/x86_64/gap.c\n",
            "Translating k_rtm.mod into /home/gjgpb9/Borgers-Examples-in-BMTK/33-EI_Beta/x86_64/k_rtm.c\n",
            "Thread Safe\n",
            "Translating k_wb.mod into /home/gjgpb9/Borgers-Examples-in-BMTK/33-EI_Beta/x86_64/k_wb.c\n",
            "Thread Safe\n",
            "Thread Safe\n",
            "Translating leak.mod into /home/gjgpb9/Borgers-Examples-in-BMTK/33-EI_Beta/x86_64/leak.c\n",
            "Thread Safe\n",
            "Translating na_rtm.mod into /home/gjgpb9/Borgers-Examples-in-BMTK/33-EI_Beta/x86_64/na_rtm.c\n",
            "Translating na_wb.mod into /home/gjgpb9/Borgers-Examples-in-BMTK/33-EI_Beta/x86_64/na_wb.c\n",
            "Thread Safe\n",
            "Translating vecevent.mod into /home/gjgpb9/Borgers-Examples-in-BMTK/33-EI_Beta/x86_64/vecevent.c\n",
            "Thread Safe\n",
            "Thread Safe\n"
          ]
        },
        {
          "name": "stdout",
          "output_type": "stream",
          "text": [
            "/home/gjgpb9/Borgers-Examples-in-BMTK/33-EI_Beta\n",
            "Mod files: \"components/mechanisms/components/mechanisms/gap.mod\" \"components/mechanisms/components/mechanisms/k_rtm.mod\" \"components/mechanisms/components/mechanisms/k_wb.mod\" \"components/mechanisms/components/mechanisms/leak.mod\" \"components/mechanisms/components/mechanisms/na_rtm.mod\" \"components/mechanisms/components/mechanisms/na_wb.mod\" \"components/mechanisms/components/mechanisms/vecevent.mod\"\n",
            "\n",
            "Creating 'x86_64' directory for .o files.\n",
            "\n",
            " -> \u001b[32mCompiling\u001b[0m mod_func.cpp\n",
            " -> \u001b[32mNMODL\u001b[0m ../components/mechanisms/gap.mod\n",
            " -> \u001b[32mNMODL\u001b[0m ../components/mechanisms/k_rtm.mod\n",
            " -> \u001b[32mNMODL\u001b[0m ../components/mechanisms/k_wb.mod\n",
            " -> \u001b[32mNMODL\u001b[0m ../components/mechanisms/leak.mod\n",
            " -> \u001b[32mNMODL\u001b[0m ../components/mechanisms/na_rtm.mod\n",
            " -> \u001b[32mNMODL\u001b[0m ../components/mechanisms/na_wb.mod\n",
            " -> \u001b[32mNMODL\u001b[0m ../components/mechanisms/vecevent.mod\n",
            " -> \u001b[32mCompiling\u001b[0m gap.c\n",
            "Notice: ARTIFICIAL_CELL is a synonym for POINT_PROCESS which hints that it\n",
            "only affects and is affected by discrete events. As such it is not\n",
            "located in a section and is not associated with an integrator\n",
            " -> \u001b[32mCompiling\u001b[0m k_rtm.c\n",
            " -> \u001b[32mCompiling\u001b[0m k_wb.c\n",
            " -> \u001b[32mCompiling\u001b[0m leak.c\n",
            " -> \u001b[32mCompiling\u001b[0m na_rtm.c\n",
            " -> \u001b[32mCompiling\u001b[0m na_wb.c\n",
            " -> \u001b[32mCompiling\u001b[0m vecevent.c\n",
            " => \u001b[32mLINKING\u001b[0m shared library ./libnrnmech.so\n",
            " => \u001b[32mLINKING\u001b[0m executable ./special LDFLAGS are:    -pthread\n",
            "Successfully created x86_64/special\n",
            "0\n"
          ]
        }
      ],
      "source": [
        "import os\n",
        "from os.path import normpath, sep, join\n",
        "\n",
        "RunningInCOLAB = 'google.colab' in str(get_ipython()) \n",
        "if RunningInCOLAB:  \n",
        "  %pip install neuron==8.2.4 &> /dev/null\n",
        "  %pip install bmtk &> /dev/null\n",
        "  %pip install h5py==2.9.0 &> /dev/null\n",
        "\n",
        "  root = 'Borgers-Examples-in-BMTK' # name of github repo\n",
        "  folder = '33-EI_Beta'\n",
        "  pathlist = normpath(os.getcwd()).split(sep)\n",
        "  if pathlist[-1] != folder:\n",
        "    rootidx = pathlist.index(root) if root in pathlist else -1\n",
        "    if rootidx>0:\n",
        "      os.chdir(join(sep,*pathlist[:rootidx]))\n",
        "    !git clone https://github.com/Cyneuro/Borgers-Examples-in-BMTK\n",
        "    os.chdir(join(root,folder))\n",
        "    \n",
        "print(os.system('nrnivmodl components/mechanisms')) # compile modfiles. Return 0 for success, 1 for failure."
      ]
    },
    {
      "cell_type": "code",
      "execution_count": 2,
      "metadata": {
        "id": "Qah-6Pf67bin"
      },
      "outputs": [],
      "source": [
        "import numpy as np\n",
        "import logging\n",
        "import math\n",
        "\n",
        "from bmtk.builder.networks import NetworkBuilder\n",
        "\n",
        "# E - Cells\n",
        "n_E = 200\n",
        "\n",
        "net = NetworkBuilder('network')\n",
        "net.add_nodes(N=n_E, pop_name='Exc',     # N = number of excitatory cells\n",
        "        model_type='biophysical',\n",
        "        model_template='hoc:RTMExcCell', # RTMExcCell hoc definition\n",
        "        morphology='blank.swc')\n",
        "\n",
        "# ING network\n",
        "n_I = 50\n",
        "\n",
        "net.add_nodes(N=n_I, pop_name='PING',     # N = number of ING cells\n",
        "        model_type='biophysical',\n",
        "        model_template='hoc:WBInhCell', \n",
        "        morphology='blank.swc')"
      ]
    },
    {
      "cell_type": "markdown",
      "metadata": {
        "id": "eKpoEedx7bin"
      },
      "source": [
        "### Connection rules \n",
        "\n",
        "We add connections based on a probability defined below. To prevent autapses, if the node_id is equal between source and targe cell, no connection is made."
      ]
    },
    {
      "cell_type": "code",
      "execution_count": 3,
      "metadata": {
        "id": "sSAQkNJg7bin"
      },
      "outputs": [],
      "source": [
        "import random\n",
        "\n",
        "def syn_connector(source,target,p):\n",
        "    if source['node_id'] == target['node_id']:\n",
        "        return 0\n",
        "    return 1 if random.random() < p else 0"
      ]
    },
    {
      "cell_type": "markdown",
      "metadata": {
        "id": "vMNFBnEc7bio"
      },
      "source": [
        "### Creating ING Edges\n",
        "\n",
        "Probabilities and conductances that are commented are taken from chapter 33 of Borgers' book. Inhibitory connections between PING cells are added; Inhibitory connections from PING cells to E - cells are added; Excitatory connections between E-cells and PING cells are added."
      ]
    },
    {
      "cell_type": "code",
      "execution_count": 4,
      "metadata": {
        "colab": {
          "base_uri": "https://localhost:8080/"
        },
        "id": "19j_u-Lz7bio",
        "outputId": "3c52c737-0a5a-4fd7-a294-8db722c6cce6"
      },
      "outputs": [
        {
          "data": {
            "text/plain": [
              "<bmtk.builder.connection_map.ConnectionMap at 0x7f0856b9e250>"
            ]
          },
          "execution_count": 4,
          "metadata": {},
          "output_type": "execute_result"
        }
      ],
      "source": [
        "g_ee = 0\n",
        "g_ei = 0.1  #0.25\n",
        "g_ie = 0.5  #0.5\n",
        "g_ii = 0.5  #0.5\n",
        "\n",
        "p_ee = 0.5  # 0.5\n",
        "p_ei = 0.5  # 0.5\n",
        "p_ie = 0.5  # 0.5\n",
        "p_ii = 1   # 0.5\n",
        "\n",
        "\n",
        "\n",
        "#E-E connections dont exist (g_ee = 0)\n",
        "         \n",
        "#E-I connections \n",
        "net.add_edges(source={'pop_name':'Exc'}, target={'pop_name':'PING'},\n",
        "                    connection_rule=syn_connector, \n",
        "                    connection_params={'p':p_ei},\n",
        "                    delay=0,\n",
        "                    syn_weight = g_ei/n_E,\n",
        "                    weight_function=None,\n",
        "                    target_sections=['soma'],\n",
        "                    distance_range=[0.0, 0.1],\n",
        "                    dynamics_params='PING_ExcToInh.json',\n",
        "                    model_template='Exp2Syn')\n",
        "\n",
        "#I-I connections\n",
        "net.add_edges(source={'pop_name':'PING'}, target={'pop_name':'PING'},\n",
        "                    connection_rule=syn_connector, \n",
        "                    connection_params={'p':p_ii},\n",
        "                    delay=0,\n",
        "                    syn_weight = g_ii,\n",
        "                    weight_function=None,\n",
        "                    target_sections=['soma'],\n",
        "                    distance_range=[0.0, 0.1],\n",
        "                    dynamics_params='PING_InhToInh.json',\n",
        "                    model_template='Exp2Syn')\n",
        "                    \n",
        "#I-E connections\n",
        "net.add_edges(source={'pop_name':'PING'}, target={'pop_name':'Exc'},\n",
        "                    connection_rule=syn_connector,\n",
        "                    connection_params={'p':p_ie},\n",
        "                    delay=0,\n",
        "                    syn_weight = g_ie,\n",
        "                    weight_function=None,\n",
        "                    target_sections=['soma'],\n",
        "                    distance_range=[0.0, 0.1],\n",
        "                    dynamics_params='PING_InhToExc.json',\n",
        "                    model_template='Exp2Syn')\n"
      ]
    },
    {
      "cell_type": "code",
      "execution_count": 5,
      "metadata": {
        "id": "RrpH_AFG7bip"
      },
      "outputs": [],
      "source": [
        "net.build()\n",
        "net.save_nodes(output_dir='network')\n",
        "net.save_edges(output_dir='network')"
      ]
    },
    {
      "cell_type": "markdown",
      "metadata": {},
      "source": [
        "### Need to add background nodes or give network a current clamp!"
      ]
    },
    {
      "cell_type": "markdown",
      "metadata": {
        "id": "tRbWd8oR7biq"
      },
      "source": [
        "### Set up Simulation Environment"
      ]
    },
    {
      "cell_type": "code",
      "execution_count": 8,
      "metadata": {
        "id": "HXYzBE-f7biq"
      },
      "outputs": [],
      "source": [
        "from bmtk.utils.sim_setup import build_env_bionet\n",
        "\n",
        "build_env_bionet(base_dir='.',\n",
        "                 network_dir='network',\n",
        "                 tstop=400.0, dt=0.1,\n",
        "                 report_vars=['v'],           # Record membrane potential and calcium (default soma)\n",
        "                 #spikes_inputs=[('extnet',   # Name of population which spikes will be generated for\n",
        "                                #'input/ext_inp_poisson.h5')],\n",
        "                 #file_current_clamp={              \n",
        "                      #\"input_type\": \"file_current_clamp\",\n",
        "                      #\"module\": \"FileIClamp\",\n",
        "                      #\"input_file\":\"input/amps.h5\",\n",
        "                      #\"node_set\":\"all\"\n",
        "                # },\n",
        "                 current_clamp={            # Creates a step current from 500.ms to 1500.0 ms\n",
        "                    'amp': 0.400,\n",
        "                    'delay': 0,\n",
        "                    'duration': 30.0\n",
        "                },\n",
        "                 v_init= -65,\n",
        "                 include_examples=False,    # Copies components files\n",
        "                 compile_mechanisms=False,   # Will try to compile NEURON mechanisms\n",
        "                 config_file = 'config.json',\n",
        "                )"
      ]
    },
    {
      "cell_type": "markdown",
      "metadata": {
        "id": "E7NIzJ8M7biq"
      },
      "source": [
        "### Run the Simulation"
      ]
    },
    {
      "cell_type": "code",
      "execution_count": 9,
      "metadata": {
        "colab": {
          "base_uri": "https://localhost:8080/"
        },
        "id": "R5mV-nQc7biq",
        "outputId": "c22b9fcc-1814-4213-af9d-7ed6caede006"
      },
      "outputs": [
        {
          "name": "stdout",
          "output_type": "stream",
          "text": [
            "numprocs=1\n"
          ]
        },
        {
          "name": "stdout",
          "output_type": "stream",
          "text": [
            "2025-01-24 11:45:39,236 [INFO] Created log file\n"
          ]
        },
        {
          "name": "stderr",
          "output_type": "stream",
          "text": [
            "INFO:NEURONIOUtils:Created log file\n"
          ]
        },
        {
          "name": "stdout",
          "output_type": "stream",
          "text": [
            "NEURON mechanisms not found in /home/gjgpb9/Borgers-Examples-in-BMTK/33-EI_Beta/components/mechanisms.\n",
            "2025-01-24 11:45:39,291 [INFO] Building cells.\n"
          ]
        },
        {
          "name": "stderr",
          "output_type": "stream",
          "text": [
            "INFO:NEURONIOUtils:Building cells.\n"
          ]
        },
        {
          "name": "stdout",
          "output_type": "stream",
          "text": [
            "2025-01-24 11:45:39,492 [INFO] Building recurrent connections\n"
          ]
        },
        {
          "name": "stderr",
          "output_type": "stream",
          "text": [
            "INFO:NEURONIOUtils:Building recurrent connections\n"
          ]
        },
        {
          "name": "stdout",
          "output_type": "stream",
          "text": [
            "2025-01-24 11:45:42,871 [INFO] Running simulation for 400.000 ms with the time step 0.100 ms\n"
          ]
        },
        {
          "name": "stderr",
          "output_type": "stream",
          "text": [
            "INFO:NEURONIOUtils:Running simulation for 400.000 ms with the time step 0.100 ms\n"
          ]
        },
        {
          "name": "stdout",
          "output_type": "stream",
          "text": [
            "2025-01-24 11:45:42,873 [INFO] Starting timestep: 0 at t_sim: 0.000 ms\n"
          ]
        },
        {
          "name": "stderr",
          "output_type": "stream",
          "text": [
            "INFO:NEURONIOUtils:Starting timestep: 0 at t_sim: 0.000 ms\n"
          ]
        },
        {
          "name": "stdout",
          "output_type": "stream",
          "text": [
            "2025-01-24 11:45:42,873 [INFO] Block save every 4000 steps\n"
          ]
        },
        {
          "name": "stderr",
          "output_type": "stream",
          "text": [
            "INFO:NEURONIOUtils:Block save every 4000 steps\n"
          ]
        },
        {
          "name": "stdout",
          "output_type": "stream",
          "text": [
            "2025-01-24 11:45:58,316 [INFO]     step:4000 t_sim:400.00 ms\n"
          ]
        },
        {
          "name": "stderr",
          "output_type": "stream",
          "text": [
            "INFO:NEURONIOUtils:    step:4000 t_sim:400.00 ms\n"
          ]
        },
        {
          "name": "stdout",
          "output_type": "stream",
          "text": [
            "2025-01-24 11:45:58,342 [INFO] Simulation completed in 15.47 seconds \n"
          ]
        },
        {
          "name": "stderr",
          "output_type": "stream",
          "text": [
            "INFO:NEURONIOUtils:Simulation completed in 15.47 seconds \n"
          ]
        }
      ],
      "source": [
        "from bmtk.simulator import bionet\n",
        "\n",
        "\n",
        "conf = bionet.Config.from_json('config.json')\n",
        "conf.build_env()\n",
        "net = bionet.BioNetwork.from_config(conf)\n",
        "sim = bionet.BioSimulator.from_config(conf, network=net)\n",
        "sim.run()"
      ]
    },
    {
      "cell_type": "markdown",
      "metadata": {
        "id": "Oh9iWknT7biq"
      },
      "source": [
        "### Analyze Results"
      ]
    },
    {
      "cell_type": "markdown",
      "metadata": {
        "id": "kjarnBXW7biq"
      },
      "source": [
        "We did not add initial voltage values to the PING network nor the E - cells. Because of a synchronous initialization, only the ING cell entrainment of the E-cells can be observed. The E - cells are already synchronous."
      ]
    },
    {
      "cell_type": "code",
      "execution_count": 10,
      "metadata": {
        "colab": {
          "base_uri": "https://localhost:8080/",
          "height": 573
        },
        "id": "w9gbx2uB7bir",
        "outputId": "656edfb6-a306-4a6a-996b-1f4e111f7204",
        "scrolled": false
      },
      "outputs": [
        {
          "data": {
            "image/png": "[encoded data removed]",
            "text/plain": [
              "<Figure size 640x480 with 1 Axes>"
            ]
          },
          "metadata": {},
          "output_type": "display_data"
        },
        {
          "data": {
            "image/png": "[encoded data removed]",
            "text/plain": [
              "<Figure size 640x480 with 1 Axes>"
            ]
          },
          "execution_count": 10,
          "metadata": {},
          "output_type": "execute_result"
        }
      ],
      "source": [
        "from bmtk.analyzer.spike_trains import plot_raster,plot_rates_boxplot\n",
        "\n",
        "plot_raster(config_file='config.json', with_histogram=False, population='network', group_by='pop_name')"
      ]
    },
    {
      "cell_type": "code",
      "execution_count": 11,
      "metadata": {
        "colab": {
          "base_uri": "https://localhost:8080/",
          "height": 599
        },
        "id": "aT_b4xMl7bir",
        "outputId": "0f042ca3-c29d-4367-e30d-59d1870fdbfd"
      },
      "outputs": [
        {
          "data": {
            "image/png": "[encoded data removed]",
            "text/plain": [
              "<Figure size 640x480 with 1 Axes>"
            ]
          },
          "metadata": {},
          "output_type": "display_data"
        },
        {
          "data": {
            "image/png": "[encoded data removed]",
            "text/plain": [
              "<Figure size 640x480 with 1 Axes>"
            ]
          },
          "execution_count": 11,
          "metadata": {},
          "output_type": "execute_result"
        }
      ],
      "source": [
        "plot_rates_boxplot(config_file='config.json', group_by='pop_name')"
      ]
    },
    {
      "cell_type": "markdown",
      "metadata": {
        "id": "VDQtrwrs7bir"
      },
      "source": [
        "The PING network successfully entrained the E-cells (Exc) at ~20 Hz which is in Beta wave range"
      ]
    },
    {
      "cell_type": "code",
      "execution_count": 12,
      "metadata": {
        "id": "6aTJS17H7bir"
      },
      "outputs": [],
      "source": []
    }
  ],
  "metadata": {
    "colab": {
      "provenance": []
    },
    "kernelspec": {
      "display_name": "bmtk",
      "language": "python",
      "name": "python3"
    },
    "language_info": {
      "codemirror_mode": {
        "name": "ipython",
        "version": 3
      },
      "file_extension": ".py",
      "mimetype": "text/x-python",
      "name": "python",
      "nbconvert_exporter": "python",
      "pygments_lexer": "ipython3",
      "version": "3.8.18"
    }
  },
  "nbformat": 4,
  "nbformat_minor": 0
}
