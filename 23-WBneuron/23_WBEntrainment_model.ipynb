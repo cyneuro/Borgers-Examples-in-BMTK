{
  "cells": [
    {
      "cell_type": "markdown",
      "metadata": {},
      "source": [
        "[![Open in Colab](https://colab.research.google.com/assets/colab-badge.svg)](https://colab.research.google.com/github/cyneuro/Borgers-Examples-in-BMTK/blob/main/23-WBneuron/23_WBEntrainment_model.ipynb)"
      ]
    },
    {
      "cell_type": "markdown",
      "metadata": {
        "id": "ejCxfga2TWrq"
      },
      "source": [
        "# Modeling Entrainment of a WB Neuron (with BMTK)\n",
        "#### by Matthew Stroud and Gregory Glickert\n",
        "\n",
        "In this notebook, we model 1:1 entrainment of a standard WB neuron under a constant frequency of excitatory input pulses. The entrainment is 1:1 because the WB neuron will fire at the same frequency as the input.\n"
      ]
    },
    {
      "cell_type": "markdown",
      "metadata": {
        "id": "Qi9KqzEUTWrr"
      },
      "source": [
        "## Cell Definition\n",
        "A standard WB cell is used in this example. \n",
        "\n",
        "**WB Cell**\n",
        "* $\\alpha_{n} = -0.01*(v+34)/(e^{-0.1*(v+34)}-1)$\n",
        "* $\\beta_{n} = 0.125*e^{-(v+44)/80}$\n",
        "* $\\alpha_{m} = 0.1*(v+35)/(1-e^{-(v+35)/10})$\n",
        "* $\\beta_{m} = 4*e^{-(v+60)/18}$\n",
        "* $\\alpha_{h} = 0.07*e^{-(v+58)/20}$\n",
        "* $\\beta_{h} = 1/(e^{-0.1*(v+28)}+1)$"
      ]
    },
    {
      "cell_type": "markdown",
      "metadata": {
        "id": "aQfOJROSTWrs"
      },
      "source": [
        "Compile .mod Files"
      ]
    },
    {
      "cell_type": "code",
      "execution_count": 1,
      "metadata": {},
      "outputs": [
        {
          "name": "stdout",
          "output_type": "stream",
          "text": [
            "/home/gjgpb9/Borgers-Examples-in-BMTK/23-WBneuron\n",
            "Mod files: \"components/mechanisms/components/mechanisms/k_wb.mod\" \"components/mechanisms/components/mechanisms/leak.mod\" \"components/mechanisms/components/mechanisms/na_wb.mod\" \"components/mechanisms/components/mechanisms/vecevent.mod\"\n",
            "\n",
            "Creating 'x86_64' directory for .o files.\n",
            "\n",
            " -> \u001b[32mCompiling\u001b[0m mod_func.cpp\n",
            " -> \u001b[32mNMODL\u001b[0m ../components/mechanisms/k_wb.mod\n",
            " -> \u001b[32mNMODL\u001b[0m ../components/mechanisms/leak.mod\n",
            " -> \u001b[32mNMODL\u001b[0m ../components/mechanisms/na_wb.mod\n",
            " -> \u001b[32mNMODL\u001b[0m ../components/mechanisms/vecevent.mod\n",
            " -> \u001b[32mCompiling\u001b[0m leak.c\n",
            " -> \u001b[32mCompiling\u001b[0m k_wb.c\n",
            "Notice: ARTIFICIAL_CELL is a synonym for POINT_PROCESS which hints that it\n",
            "only affects and is affected by discrete events. As such it is not\n",
            "located in a section and is not associated with an integrator\n",
            " -> \u001b[32mCompiling\u001b[0m na_wb.c\n",
            " -> \u001b[32mCompiling\u001b[0m vecevent.c\n",
            " => \u001b[32mLINKING\u001b[0m shared library ./libnrnmech.so\n"
          ]
        },
        {
          "name": "stderr",
          "output_type": "stream",
          "text": [
            "/home/gjgpb9/miniconda3/envs/bmtk/bin/nrnivmodl:10: DeprecationWarning: pkg_resources is deprecated as an API. See https://setuptools.pypa.io/en/latest/pkg_resources.html\n",
            "  from pkg_resources import working_set\n",
            "Translating k_wb.mod into /home/gjgpb9/Borgers-Examples-in-BMTK/23-WBneuron/x86_64/k_wb.c\n",
            "Translating leak.mod into /home/gjgpb9/Borgers-Examples-in-BMTK/23-WBneuron/x86_64/leak.c\n",
            "Translating na_wb.mod into /home/gjgpb9/Borgers-Examples-in-BMTK/23-WBneuron/x86_64/na_wb.c\n",
            "Thread Safe\n",
            "Thread Safe\n",
            "Thread Safe\n",
            "Translating vecevent.mod into /home/gjgpb9/Borgers-Examples-in-BMTK/23-WBneuron/x86_64/vecevent.c\n",
            "Thread Safe\n"
          ]
        },
        {
          "name": "stdout",
          "output_type": "stream",
          "text": [
            " => \u001b[32mLINKING\u001b[0m executable ./special LDFLAGS are:    -pthread\n",
            "Successfully created x86_64/special\n",
            "0\n"
          ]
        }
      ],
      "source": [
        "import os\n",
        "from os.path import normpath, sep, join\n",
        "\n",
        "RunningInCOLAB = 'google.colab' in str(get_ipython()) \n",
        "if RunningInCOLAB:  \n",
        "  %pip install neuron==8.2.4 &> /dev/null\n",
        "  %pip install bmtk &> /dev/null\n",
        "\n",
        "  root = 'Borgers-Examples-in-BMTK' # name of github repo\n",
        "  folder = '23-WBneuron' # name of folder in Github just change this line \n",
        "  pathlist = normpath(os.getcwd()).split(sep)\n",
        "  if pathlist[-1] != folder:\n",
        "    rootidx = pathlist.index(root) if root in pathlist else -1\n",
        "    if rootidx>0:\n",
        "      os.chdir(join(sep,*pathlist[:rootidx]))\n",
        "    !git clone https://github.com/Cyneuro/Borgers-Examples-in-BMTK\n",
        "    os.chdir(join(root,folder))\n",
        "    \n",
        "print(os.system('nrnivmodl components/mechanisms')) # compile modfiles. Return 0 for success, 1 for failure."
      ]
    },
    {
      "cell_type": "markdown",
      "metadata": {
        "id": "42-sihiXTWrt"
      },
      "source": [
        "### 1.Building the Network\n",
        "There is only 1 cell in this network, thus only a WB cell will be added. No network connections are necessary"
      ]
    },
    {
      "cell_type": "code",
      "execution_count": 2,
      "metadata": {
        "id": "oqvWH2CsTWru"
      },
      "outputs": [],
      "source": [
        "import numpy as np\n",
        "import logging\n",
        "\n",
        "from bmtk.builder.networks import NetworkBuilder\n",
        "\n",
        "net = NetworkBuilder('network')\n",
        "net.add_nodes(N=1,pop_name='WB',     \n",
        "        model_type='biophysical',\n",
        "        model_template='hoc:WBInhCell',  # WBInhCell hoc definition\n",
        "        morphology='blank.swc')"
      ]
    },
    {
      "cell_type": "markdown",
      "metadata": {
        "id": "P3gzTqA2TWru"
      },
      "source": [
        "#### Building\n",
        "After defining our network, we build and save it in a network folder."
      ]
    },
    {
      "cell_type": "code",
      "execution_count": 3,
      "metadata": {
        "id": "Rit_yjqZTWrv"
      },
      "outputs": [],
      "source": [
        "net.build()\n",
        "net.save_nodes(output_dir='network')"
      ]
    },
    {
      "cell_type": "markdown",
      "metadata": {
        "id": "Dp4UDA7HTWrv"
      },
      "source": [
        "#### External Input\n",
        "We then create a 'virtual' cell that supplies the excitatory synaptic input to our WB cell."
      ]
    },
    {
      "cell_type": "code",
      "execution_count": 4,
      "metadata": {
        "id": "4ZlO6fESTWrw"
      },
      "outputs": [],
      "source": [
        "extnet = NetworkBuilder('extnet')\n",
        "extnet.add_nodes(N=1,pop_name='Inp',\n",
        "            potential='exc',\n",
        "            model_type='virtual')"
      ]
    },
    {
      "cell_type": "markdown",
      "metadata": {
        "id": "c_gnsnCGTWrw"
      },
      "source": [
        "Add an excitatory connection from our virtual cell to the WB cell using tau1=0.5 ms and t2=2 ms. These parameters are specified in ExcToInh.json"
      ]
    },
    {
      "cell_type": "code",
      "execution_count": 5,
      "metadata": {
        "colab": {
          "base_uri": "https://localhost:8080/"
        },
        "id": "9S-qWIA9TWrw",
        "outputId": "a31f986c-3841-445c-e03d-96e0cd39fd31"
      },
      "outputs": [
        {
          "data": {
            "text/plain": [
              "<bmtk.builder.connection_map.ConnectionMap at 0x7ff2700be2e0>"
            ]
          },
          "execution_count": 5,
          "metadata": {},
          "output_type": "execute_result"
        }
      ],
      "source": [
        "extnet.add_edges(source={'pop_name':'Inp'}, target=net.nodes(),\n",
        "                   connection_rule=1,\n",
        "                   syn_weight=0.03,               #synaptic weight specified in Borger's book ch 23\n",
        "                   delay=5,\n",
        "                   weight_function=None,\n",
        "                   target_sections=['soma'],\n",
        "                   distance_range=[0.0, 150.0],\n",
        "                   dynamics_params='ExcToInh.json',\n",
        "                   model_template='exp2syn')"
      ]
    },
    {
      "cell_type": "code",
      "execution_count": 6,
      "metadata": {
        "id": "DTOPGbLwTWrx"
      },
      "outputs": [],
      "source": [
        "extnet.build()\n",
        "extnet.save_nodes(output_dir='network')\n",
        "extnet.save_edges(output_dir='network')"
      ]
    },
    {
      "cell_type": "markdown",
      "metadata": {
        "id": "ptvANn-xTWrx"
      },
      "source": [
        "#### Adding Spike Train"
      ]
    },
    {
      "cell_type": "code",
      "execution_count": 7,
      "metadata": {
        "id": "ko7zW7t8TWry"
      },
      "outputs": [],
      "source": [
        "from bmtk.utils.reports.spike_trains import SpikeTrains\n",
        "\n",
        "spikes = SpikeTrains(population='extnet')\n",
        "spikes.add_spikes(node_ids=0, \n",
        "                    timestamps=[50, 100, 150, 200, 250, 300, 350, 400, 450, 500, 550, 600, 650, 700, 750, 800])\n",
        "spikes.to_sonata('input/ConstantSpike.h5')"
      ]
    },
    {
      "cell_type": "markdown",
      "metadata": {
        "id": "mxy4I7LQTWry"
      },
      "source": [
        "This next cell is used to build the simulation. This step is already completed for you."
      ]
    },
    {
      "cell_type": "code",
      "execution_count": 8,
      "metadata": {
        "id": "yFfkjOL4TWrz"
      },
      "outputs": [
        {
          "name": "stderr",
          "output_type": "stream",
          "text": [
            "WARNING:root:Configuration file /home/gjgpb9/Borgers-Examples-in-BMTK/23-WBneuron/config.json already exists, skipping. Please delete existing file, use a different name, or use overwrite_config=True.\n",
            "WARNING:root:Configuration file /home/gjgpb9/Borgers-Examples-in-BMTK/23-WBneuron/circuit_config.json already exists, skipping. Please delete existing file, use a different name, or use overwrite_config=True.\n",
            "WARNING:root:Configuration file /home/gjgpb9/Borgers-Examples-in-BMTK/23-WBneuron/simulation_config.json already exists, skipping. Please delete existing file, use a different name, or use overwrite_config=True.\n"
          ]
        }
      ],
      "source": [
        "from bmtk.utils.sim_setup import build_env_bionet\n",
        "\n",
        "build_env_bionet(base_dir='.',\n",
        "                network_dir='network',\n",
        "                 tstop=800.0, dt=0.1,\n",
        "                 report_vars=['v'],     # Record membrane potential and calcium (default soma)\n",
        "                 spikes_inputs=[('extnet',   # Name of population which spikes will be generated for\n",
        "                                'input/ConstantSpike.h5')],\n",
        "                 include_examples=False,    # Copies components files\n",
        "                 compile_mechanisms=False,   # Will try to compile NEURON mechanisms\n",
        "                 config_file = 'config.json'\n",
        "                )"
      ]
    },
    {
      "cell_type": "markdown",
      "metadata": {
        "id": "fzp8P37XTWrz"
      },
      "source": [
        "### Run the Simulation"
      ]
    },
    {
      "cell_type": "code",
      "execution_count": 9,
      "metadata": {
        "colab": {
          "base_uri": "https://localhost:8080/"
        },
        "id": "fbe_y4C1TWr0",
        "outputId": "7637d5f8-e464-41af-bb60-9da7d37a28d0"
      },
      "outputs": [
        {
          "name": "stdout",
          "output_type": "stream",
          "text": [
            "numprocs=1\n",
            "2025-01-24 10:49:43,752 [INFO] Created log file\n"
          ]
        },
        {
          "name": "stderr",
          "output_type": "stream",
          "text": [
            "INFO:NEURONIOUtils:Created log file\n"
          ]
        },
        {
          "name": "stdout",
          "output_type": "stream",
          "text": [
            "NEURON mechanisms not found in /home/gjgpb9/Borgers-Examples-in-BMTK/23-WBneuron/components/mechanisms.\n",
            "2025-01-24 10:49:43,816 [INFO] Building cells.\n"
          ]
        },
        {
          "name": "stderr",
          "output_type": "stream",
          "text": [
            "INFO:NEURONIOUtils:Building cells.\n"
          ]
        },
        {
          "name": "stdout",
          "output_type": "stream",
          "text": [
            "2025-01-24 10:49:43,818 [INFO] Building recurrent connections\n"
          ]
        },
        {
          "name": "stderr",
          "output_type": "stream",
          "text": [
            "INFO:NEURONIOUtils:Building recurrent connections\n"
          ]
        },
        {
          "name": "stdout",
          "output_type": "stream",
          "text": [
            "2025-01-24 10:49:43,819 [INFO] Building virtual cell stimulations for extnet_spikes\n"
          ]
        },
        {
          "name": "stderr",
          "output_type": "stream",
          "text": [
            "INFO:NEURONIOUtils:Building virtual cell stimulations for extnet_spikes\n"
          ]
        },
        {
          "name": "stdout",
          "output_type": "stream",
          "text": [
            "2025-01-24 10:49:43,828 [INFO] Running simulation for 800.000 ms with the time step 0.100 ms\n"
          ]
        },
        {
          "name": "stderr",
          "output_type": "stream",
          "text": [
            "INFO:NEURONIOUtils:Running simulation for 800.000 ms with the time step 0.100 ms\n"
          ]
        },
        {
          "name": "stdout",
          "output_type": "stream",
          "text": [
            "2025-01-24 10:49:43,829 [INFO] Starting timestep: 0 at t_sim: 0.000 ms\n"
          ]
        },
        {
          "name": "stderr",
          "output_type": "stream",
          "text": [
            "INFO:NEURONIOUtils:Starting timestep: 0 at t_sim: 0.000 ms\n"
          ]
        },
        {
          "name": "stdout",
          "output_type": "stream",
          "text": [
            "2025-01-24 10:49:43,830 [INFO] Block save every 5000 steps\n"
          ]
        },
        {
          "name": "stderr",
          "output_type": "stream",
          "text": [
            "INFO:NEURONIOUtils:Block save every 5000 steps\n"
          ]
        },
        {
          "name": "stdout",
          "output_type": "stream",
          "text": [
            "2025-01-24 10:49:43,938 [INFO]     step:5000 t_sim:500.00 ms\n"
          ]
        },
        {
          "name": "stderr",
          "output_type": "stream",
          "text": [
            "INFO:NEURONIOUtils:    step:5000 t_sim:500.00 ms\n"
          ]
        },
        {
          "name": "stdout",
          "output_type": "stream",
          "text": [
            "2025-01-24 10:49:44,005 [INFO]     step:8000 t_sim:800.00 ms\n"
          ]
        },
        {
          "name": "stderr",
          "output_type": "stream",
          "text": [
            "INFO:NEURONIOUtils:    step:8000 t_sim:800.00 ms\n"
          ]
        },
        {
          "name": "stdout",
          "output_type": "stream",
          "text": [
            "2025-01-24 10:49:44,012 [INFO] Simulation completed in 0.1834 seconds \n"
          ]
        },
        {
          "name": "stderr",
          "output_type": "stream",
          "text": [
            "INFO:NEURONIOUtils:Simulation completed in 0.1834 seconds \n"
          ]
        }
      ],
      "source": [
        "from bmtk.simulator import bionet\n",
        "\n",
        "\n",
        "conf = bionet.Config.from_json('config.json')\n",
        "conf.build_env()\n",
        "net = bionet.BioNetwork.from_config(conf)\n",
        "sim = bionet.BioSimulator.from_config(conf, network=net)\n",
        "sim.run()"
      ]
    },
    {
      "cell_type": "markdown",
      "metadata": {
        "id": "zK9A7rsJTWr0"
      },
      "source": [
        "If the simulation ran correctly, we can now print out results:"
      ]
    },
    {
      "cell_type": "code",
      "execution_count": 10,
      "metadata": {
        "colab": {
          "base_uri": "https://localhost:8080/",
          "height": 221
        },
        "id": "it-rHYNuTWr0",
        "outputId": "67610f2f-8a4a-4c2a-94de-8df8b3ec45ca"
      },
      "outputs": [
        {
          "name": "stdout",
          "output_type": "stream",
          "text": [
            "Number of Spikes: 5\n"
          ]
        },
        {
          "data": {
            "text/html": [
              "<div>\n",
              "<style scoped>\n",
              "    .dataframe tbody tr th:only-of-type {\n",
              "        vertical-align: middle;\n",
              "    }\n",
              "\n",
              "    .dataframe tbody tr th {\n",
              "        vertical-align: top;\n",
              "    }\n",
              "\n",
              "    .dataframe thead th {\n",
              "        text-align: right;\n",
              "    }\n",
              "</style>\n",
              "<table border=\"1\" class=\"dataframe\">\n",
              "  <thead>\n",
              "    <tr style=\"text-align: right;\">\n",
              "      <th></th>\n",
              "      <th>timestamps</th>\n",
              "      <th>node_ids</th>\n",
              "      <th>population</th>\n",
              "    </tr>\n",
              "  </thead>\n",
              "  <tbody>\n",
              "    <tr>\n",
              "      <th>0</th>\n",
              "      <td>174.5</td>\n",
              "      <td>0</td>\n",
              "      <td>network</td>\n",
              "    </tr>\n",
              "    <tr>\n",
              "      <th>1</th>\n",
              "      <td>322.1</td>\n",
              "      <td>0</td>\n",
              "      <td>network</td>\n",
              "    </tr>\n",
              "    <tr>\n",
              "      <th>2</th>\n",
              "      <td>471.4</td>\n",
              "      <td>0</td>\n",
              "      <td>network</td>\n",
              "    </tr>\n",
              "    <tr>\n",
              "      <th>3</th>\n",
              "      <td>621.2</td>\n",
              "      <td>0</td>\n",
              "      <td>network</td>\n",
              "    </tr>\n",
              "    <tr>\n",
              "      <th>4</th>\n",
              "      <td>771.2</td>\n",
              "      <td>0</td>\n",
              "      <td>network</td>\n",
              "    </tr>\n",
              "  </tbody>\n",
              "</table>\n",
              "</div>"
            ],
            "text/plain": [
              "   timestamps  node_ids population\n",
              "0       174.5         0    network\n",
              "1       322.1         0    network\n",
              "2       471.4         0    network\n",
              "3       621.2         0    network\n",
              "4       771.2         0    network"
            ]
          },
          "execution_count": 10,
          "metadata": {},
          "output_type": "execute_result"
        }
      ],
      "source": [
        "from bmtk.analyzer.spike_trains import to_dataframe\n",
        "\n",
        "results_df = to_dataframe(config_file='config.json')\n",
        "print('Number of Spikes: {}'.format(len(results_df)))\n",
        "results_df.head()"
      ]
    },
    {
      "cell_type": "markdown",
      "metadata": {
        "id": "AKiHSLbkTWr1"
      },
      "source": [
        "As you can see, the WB neuron fired ~7.8 ms after the spike in our virtual cell. We defined 5 ms delay in our synapse, so if this delay is set to 0 and the simulation is re-run, the WB neuron would fire ~2.8 ms after the virtual cell spike."
      ]
    },
    {
      "cell_type": "markdown",
      "metadata": {
        "id": "4eXA53eVTWr1"
      },
      "source": [
        "We can now plot our results using an in built bmtk function plot_traces"
      ]
    },
    {
      "cell_type": "code",
      "execution_count": 11,
      "metadata": {
        "colab": {
          "base_uri": "https://localhost:8080/",
          "height": 295
        },
        "id": "foZyox8UTWr1",
        "outputId": "a8c62c08-7aed-463e-ec5b-e1f3db5ce2c0",
        "scrolled": true
      },
      "outputs": [
        {
          "data": {
            "image/png": "[encoded data removed]",
            "text/plain": [
              "<Figure size 640x480 with 1 Axes>"
            ]
          },
          "metadata": {},
          "output_type": "display_data"
        }
      ],
      "source": [
        "from bmtk.analyzer.compartment import plot_traces\n",
        "_ = plot_traces(config_file='config.json', node_ids=[0], report_name='v_report')\n"
      ]
    },
    {
      "cell_type": "markdown",
      "metadata": {
        "id": "1qr-4pufTWr2"
      },
      "source": [
        "## Additional Plot Features\n",
        "It is easier to work with this data if we obtain it in array form, and we can use well documented matplotlib features while plotting."
      ]
    },
    {
      "cell_type": "code",
      "execution_count": 12,
      "metadata": {
        "id": "nPESGp1MTWr2"
      },
      "outputs": [],
      "source": [
        "from bmtk.utils.reports.compartment import CompartmentReport\n",
        "\n",
        "pop_name = 'WB'\n",
        "report = CompartmentReport('output/v_report.h5',\n",
        "population=pop_name, mode='r')\n",
        "v_trace = (report.data(node_id=0))\n",
        "time = np.arange(report.tstart(), report.tstop(), report.dt())"
      ]
    },
    {
      "cell_type": "code",
      "execution_count": 13,
      "metadata": {
        "colab": {
          "base_uri": "https://localhost:8080/",
          "height": 295
        },
        "id": "WDDG7wQnTWr2",
        "outputId": "0357a326-f313-4db4-84a3-16abb19c0ce4"
      },
      "outputs": [
        {
          "data": {
            "image/png": "[encoded data removed]",
            "text/plain": [
              "<Figure size 640x480 with 1 Axes>"
            ]
          },
          "metadata": {},
          "output_type": "display_data"
        }
      ],
      "source": [
        "import matplotlib.pyplot as plt\n",
        "plt.plot(time, v_trace)\n",
        "plt.ylabel('Voltage [mv]')\n",
        "plt.xlabel('Time [ms]')\n",
        "plt.title('WB_neuron Voltage')\n",
        "# add red verticle lines that mark when the virtual cell spikes\n",
        "for i in range(15):\n",
        "    plt.axvline(x=50*i+50, linewidth=0.5, color='r')\n",
        "plt.show()"
      ]
    },
    {
      "cell_type": "markdown",
      "metadata": {
        "id": "cV1jHeaXTWr3"
      },
      "source": [
        "After overlaying the virtual cell spike times (vertical red lines) we have created a plot that looks very similar to the example in chapter 23 of Borgers' book, \"An Introduction to Modeling Neuronal Dynamics.\""
      ]
    },
    {
      "cell_type": "code",
      "execution_count": 14,
      "metadata": {
        "id": "goDER9HvTWr3"
      },
      "outputs": [],
      "source": []
    }
  ],
  "metadata": {
    "colab": {
      "name": "23_WBEntrainment_model.ipynb",
      "provenance": []
    },
    "kernelspec": {
      "display_name": "bmtk",
      "language": "python",
      "name": "python3"
    },
    "language_info": {
      "codemirror_mode": {
        "name": "ipython",
        "version": 3
      },
      "file_extension": ".py",
      "mimetype": "text/x-python",
      "name": "python",
      "nbconvert_exporter": "python",
      "pygments_lexer": "ipython3",
      "version": "3.8.18"
    }
  },
  "nbformat": 4,
  "nbformat_minor": 0
}
